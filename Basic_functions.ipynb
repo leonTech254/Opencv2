{
 "cells": [
  {
   "cell_type": "code",
   "execution_count": 2,
   "metadata": {},
   "outputs": [],
   "source": [
    "import cv2 as cv\n"
   ]
  },
  {
   "cell_type": "code",
   "execution_count": 3,
   "metadata": {},
   "outputs": [],
   "source": [
    "image=cv.imread(\"./images/leon.jpeg\")\n",
    "# resize\n",
    "scale_factor=0.55\n",
    "width=int(image.shape[1]*scale_factor)\n",
    "height=int(image.shape[0]*scale_factor)\n",
    "new_dimentions=(width,height)\n",
    "image=cv.resize(image,new_dimentions,interpolation=cv.INTER_AREA)\n",
    "cv.imshow('original',image)\n",
    "cv.waitKey(0)\n",
    "cv.destroyAllWindows()"
   ]
  },
  {
   "cell_type": "markdown",
   "metadata": {},
   "source": [
    "CONVERTING IMAGE TO A GRAYSCALE IMAGE"
   ]
  },
  {
   "cell_type": "code",
   "execution_count": 4,
   "metadata": {},
   "outputs": [],
   "source": [
    "gray=cv.cvtColor(image,cv.COLOR_BGR2GRAY)\n",
    "\n",
    "cv.imshow('gray',gray)\n",
    "cv.waitKey(0)\n",
    "cv.destroyAllWindows()"
   ]
  },
  {
   "cell_type": "markdown",
   "metadata": {},
   "source": [
    "BLURING IMAGE"
   ]
  },
  {
   "cell_type": "code",
   "execution_count": 5,
   "metadata": {},
   "outputs": [],
   "source": [
    "blur=cv.GaussianBlur(image,(3,3),cv.BORDER_DEFAULT)\n",
    "cv.imshow('origin',image)\n",
    "cv.imshow('blur',blur)\n",
    "cv.waitKey(0)\n",
    "cv.destroyAllWindows()"
   ]
  },
  {
   "cell_type": "markdown",
   "metadata": {},
   "source": [
    "FINDING COUNTOURS"
   ]
  },
  {
   "cell_type": "code",
   "execution_count": 7,
   "metadata": {},
   "outputs": [],
   "source": [
    "canny=cv.Canny(blur,125,175)\n",
    "cv.imshow('canny',canny)\n",
    "cv.waitKey(0)\n",
    "cv.destroyAllWindows()\n",
    "\n"
   ]
  },
  {
   "cell_type": "markdown",
   "metadata": {},
   "source": [
    "DIALATING THE IMAGE"
   ]
  },
  {
   "cell_type": "code",
   "execution_count": 8,
   "metadata": {},
   "outputs": [],
   "source": [
    "dialate=cv.dilate(canny,(3,3),iterations=1)\n",
    "cv.imshow('canny',canny)\n",
    "cv.imshow('dialated',dialate)\n",
    "cv.waitKey(0)\n",
    "cv.destroyAllWindows()"
   ]
  }
 ],
 "metadata": {
  "kernelspec": {
   "display_name": "Python 3.10.8 ('.venv')",
   "language": "python",
   "name": "python3"
  },
  "language_info": {
   "codemirror_mode": {
    "name": "ipython",
    "version": 3
   },
   "file_extension": ".py",
   "mimetype": "text/x-python",
   "name": "python",
   "nbconvert_exporter": "python",
   "pygments_lexer": "ipython3",
   "version": "3.10.8"
  },
  "orig_nbformat": 4,
  "vscode": {
   "interpreter": {
    "hash": "9928d379fed5078222e4bea5cc4264b47e302b1ee3c8779c4aca5fce6c1b0c83"
   }
  }
 },
 "nbformat": 4,
 "nbformat_minor": 2
}
