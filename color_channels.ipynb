{
 "cells": [
  {
   "cell_type": "code",
   "execution_count": 1,
   "metadata": {},
   "outputs": [],
   "source": [
    "import cv2 as cv\n",
    "import numpy as np"
   ]
  },
  {
   "cell_type": "code",
   "execution_count": 2,
   "metadata": {},
   "outputs": [],
   "source": [
    "image=cv.imread(\"./images/leon.jpeg\")\n",
    "# resize\n",
    "scale_factor=0.55\n",
    "width=int(image.shape[1]*scale_factor)\n",
    "height=int(image.shape[0]*scale_factor)\n",
    "new_dimentions=(width,height)\n",
    "image=cv.resize(image,new_dimentions,interpolation=cv.INTER_AREA)\n",
    "cv.imshow('original',image)\n",
    "cv.waitKey(0)\n",
    "cv.destroyAllWindows()"
   ]
  },
  {
   "cell_type": "code",
   "execution_count": 3,
   "metadata": {},
   "outputs": [],
   "source": [
    "# spliting the colors\n",
    "b,g,r=cv.split(image)\n",
    "cv.imshow('b',b)\n",
    "cv.imshow('g',g)\n",
    "cv.imshow('r',r)\n",
    "cv.waitKey(0)\n",
    "cv.destroyAllWindows()\n"
   ]
  },
  {
   "cell_type": "code",
   "execution_count": null,
   "metadata": {},
   "outputs": [],
   "source": [
    "# Mergig thr colors \n",
    "merrged=cv.merge([b,g,r])\n",
    "cv.imshow('merged',merrged)\n",
    "cv.waitKey(0)\n",
    "cv.destroyAllWindows()\n"
   ]
  }
 ],
 "metadata": {
  "kernelspec": {
   "display_name": "Python 3.10.8 ('.venv')",
   "language": "python",
   "name": "python3"
  },
  "language_info": {
   "codemirror_mode": {
    "name": "ipython",
    "version": 3
   },
   "file_extension": ".py",
   "mimetype": "text/x-python",
   "name": "python",
   "nbconvert_exporter": "python",
   "pygments_lexer": "ipython3",
   "version": "3.10.8"
  },
  "orig_nbformat": 4,
  "vscode": {
   "interpreter": {
    "hash": "9928d379fed5078222e4bea5cc4264b47e302b1ee3c8779c4aca5fce6c1b0c83"
   }
  }
 },
 "nbformat": 4,
 "nbformat_minor": 2
}
