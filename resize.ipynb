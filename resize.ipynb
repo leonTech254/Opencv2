{
 "cells": [
  {
   "cell_type": "code",
   "execution_count": 1,
   "metadata": {},
   "outputs": [],
   "source": [
    "import cv2 as cv"
   ]
  },
  {
   "cell_type": "code",
   "execution_count": 2,
   "metadata": {},
   "outputs": [],
   "source": [
    "image=cv.imread(\"./images/new.png\")\n",
    "def rescaleFrame(image,scale=0.15):\n",
    "    width=int(image.shape[1]*scale)\n",
    "    height=int(image.shape[0]*scale)\n",
    "    new_dimensions=(width,height)\n",
    "    return cv.resize(image,new_dimensions,interpolation=cv.INTER_AREA)"
   ]
  },
  {
   "cell_type": "code",
   "execution_count": 4,
   "metadata": {},
   "outputs": [],
   "source": [
    "new_image=rescaleFrame(image=image)\n",
    "cv.imshow('new image',new_image)\n",
    "cv.waitKey(0)\n"
   ]
  }
 ],
 "metadata": {
  "kernelspec": {
   "display_name": "Python 3.10.8 ('.venv')",
   "language": "python",
   "name": "python3"
  },
  "language_info": {
   "codemirror_mode": {
    "name": "ipython",
    "version": 3
   },
   "file_extension": ".py",
   "mimetype": "text/x-python",
   "name": "python",
   "nbconvert_exporter": "python",
   "pygments_lexer": "ipython3",
   "version": "3.10.8"
  },
  "orig_nbformat": 4,
  "vscode": {
   "interpreter": {
    "hash": "9928d379fed5078222e4bea5cc4264b47e302b1ee3c8779c4aca5fce6c1b0c83"
   }
  }
 },
 "nbformat": 4,
 "nbformat_minor": 2
}
